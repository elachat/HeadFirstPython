{
 "cells": [
  {
   "cell_type": "code",
   "execution_count": 7,
   "metadata": {},
   "outputs": [
    {
     "data": {
      "text/plain": [
       "'1:26.58'"
      ]
     },
     "execution_count": 7,
     "metadata": {},
     "output_type": "execute_result"
    }
   ],
   "source": [
    "import statistics\n",
    "\n",
    "FN = \"Darius-13-100m-Fly.txt\"\n",
    "FOLDER = \"swimdata/\"\n",
    "\n",
    "swimmer, age, distance, stroke = FN.removesuffix(\".txt\").split(\"-\")\n",
    "\n",
    "with open(FOLDER + FN) as file:\n",
    "    lines = file.readlines()\n",
    "\n",
    "converts = []\n",
    "times = lines[0].strip().split(\",\")\n",
    "\n",
    "for t in times:\n",
    "    minutes, rest = t.split(\":\")\n",
    "    seconds, hundredths = rest.split(\".\")\n",
    "\n",
    "    converts.append((int(minutes) * 60 * 100) + (int(seconds) * 100) + int(hundredths))\n",
    "\n",
    "avg = statistics.mean(converts)\n",
    "\n",
    "mins_secs, hundredths = str(round(avg / 100, 2)).split(\".\")\n",
    "mins_secs = int(mins_secs)\n",
    "mins = mins_secs // 60\n",
    "secs = mins_secs - (mins * 60)\n",
    "\n",
    "avg = str(mins) + \":\" + str(secs) + \".\" + hundredths\n"
   ]
  },
  {
   "cell_type": "code",
   "execution_count": null,
   "metadata": {},
   "outputs": [],
   "source": []
  }
 ],
 "metadata": {
  "kernelspec": {
   "display_name": "Python 3",
   "language": "python",
   "name": "python3"
  },
  "language_info": {
   "codemirror_mode": {
    "name": "ipython",
    "version": 3
   },
   "file_extension": ".py",
   "mimetype": "text/x-python",
   "name": "python",
   "nbconvert_exporter": "python",
   "pygments_lexer": "ipython3",
   "version": "3.11.0"
  },
  "orig_nbformat": 4
 },
 "nbformat": 4,
 "nbformat_minor": 2
}
